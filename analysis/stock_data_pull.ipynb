{
 "cells": [
  {
   "cell_type": "code",
   "execution_count": 1,
   "metadata": {},
   "outputs": [],
   "source": [
    "# stock price prediction part II"
   ]
  },
  {
   "cell_type": "code",
   "execution_count": 7,
   "metadata": {},
   "outputs": [],
   "source": [
    "# import packages:\n",
    "\n",
    "import pandas as pd\n",
    "import numpy as np\n",
    "import os\n",
    "import time as tm\n",
    "import pandas_datareader as pdr\n",
    "import datetime\n",
    "import requests_cache"
   ]
  },
  {
   "cell_type": "code",
   "execution_count": 8,
   "metadata": {},
   "outputs": [],
   "source": [
    "# read in the S&P 500 stock list:\n",
    "\n",
    "sp_stox = pd.read_csv('data/sp500_tickers.csv')\n",
    "\n"
   ]
  },
  {
   "cell_type": "code",
   "execution_count": 9,
   "metadata": {},
   "outputs": [
    {
     "data": {
      "text/html": [
       "<div>\n",
       "<style scoped>\n",
       "    .dataframe tbody tr th:only-of-type {\n",
       "        vertical-align: middle;\n",
       "    }\n",
       "\n",
       "    .dataframe tbody tr th {\n",
       "        vertical-align: top;\n",
       "    }\n",
       "\n",
       "    .dataframe thead th {\n",
       "        text-align: right;\n",
       "    }\n",
       "</style>\n",
       "<table border=\"1\" class=\"dataframe\">\n",
       "  <thead>\n",
       "    <tr style=\"text-align: right;\">\n",
       "      <th></th>\n",
       "      <th>ticker_symbol</th>\n",
       "      <th>compandy name</th>\n",
       "    </tr>\n",
       "  </thead>\n",
       "  <tbody>\n",
       "    <tr>\n",
       "      <td>501</td>\n",
       "      <td>ZBH</td>\n",
       "      <td>Zimmer Biomet Holdings</td>\n",
       "    </tr>\n",
       "    <tr>\n",
       "      <td>502</td>\n",
       "      <td>ZBRA</td>\n",
       "      <td>Zebra Technologies</td>\n",
       "    </tr>\n",
       "    <tr>\n",
       "      <td>503</td>\n",
       "      <td>ZION</td>\n",
       "      <td>Zions Bancorp</td>\n",
       "    </tr>\n",
       "    <tr>\n",
       "      <td>504</td>\n",
       "      <td>ZTS</td>\n",
       "      <td>Zoetis Inc Cl A</td>\n",
       "    </tr>\n",
       "    <tr>\n",
       "      <td>505</td>\n",
       "      <td>^GSPC</td>\n",
       "      <td>S&amp;P 500</td>\n",
       "    </tr>\n",
       "  </tbody>\n",
       "</table>\n",
       "</div>"
      ],
      "text/plain": [
       "    ticker_symbol           compandy name\n",
       "501           ZBH  Zimmer Biomet Holdings\n",
       "502          ZBRA      Zebra Technologies\n",
       "503          ZION           Zions Bancorp\n",
       "504           ZTS         Zoetis Inc Cl A\n",
       "505         ^GSPC                 S&P 500"
      ]
     },
     "execution_count": 9,
     "metadata": {},
     "output_type": "execute_result"
    }
   ],
   "source": [
    "sp_stox.tail()"
   ]
  },
  {
   "cell_type": "code",
   "execution_count": 24,
   "metadata": {},
   "outputs": [],
   "source": [
    "# list of S&P stocks:\n",
    "\n",
    "stocks  = sp_stox['ticker_symbol'].head(2) ### remove head when code is complete ###\n"
   ]
  },
  {
   "cell_type": "code",
   "execution_count": 25,
   "metadata": {},
   "outputs": [
    {
     "name": "stdout",
     "output_type": "stream",
     "text": [
      "retriving:   A\n",
      "saving:   A  data to:  data\\A.csv\n",
      "completed retrieving:   A  data in:  0.0003827810287475586\n",
      "retriving:   AAL\n",
      "saving:   AAL  data to:  data\\AAL.csv\n",
      "completed retrieving:   AAL  data in:  0.01511006752649943\n"
     ]
    }
   ],
   "source": [
    "# loop through and form a consistent dataframe of the data:\n",
    "\n",
    "\n",
    "# set the query cache time:\n",
    "expire_after = datetime.timedelta(days=3)\n",
    "\n",
    "# cache the session:\n",
    "session = requests_cache.CachedSession(cache_name='cache', backend='sqlite', expire_after=expire_after)\n",
    "\n",
    "# loop through the tickers in the list:\n",
    "for stock in stocks:\n",
    "    start = tm.time()\n",
    "    print('retriving: ' ,stock)\n",
    "\n",
    "    ## pull and data generation:\n",
    "    df = pdr.get_data_yahoo(stock.strip(), start = '2019-01-01', end = '2019-01-05', session = session)\n",
    "    df['ticker'] = stock\n",
    "    df.reset_index()\n",
    "    df.to_csv(os.path.join('data', stock.strip() +'.csv'))\n",
    "    print('saving: ', stock, ' data to: ', os.path.join('data', stock.strip() +'.csv'))\n",
    "    \n",
    "    \n",
    "    end = tm.time()\n",
    "    total = (end - start) / 60\n",
    "    print('completed retrieving: ', stock, ' data in: ', total)\n",
    "    \n",
    "\n"
   ]
  },
  {
   "cell_type": "code",
   "execution_count": 90,
   "metadata": {},
   "outputs": [
    {
     "data": {
      "text/html": [
       "<div>\n",
       "<style scoped>\n",
       "    .dataframe tbody tr th:only-of-type {\n",
       "        vertical-align: middle;\n",
       "    }\n",
       "\n",
       "    .dataframe tbody tr th {\n",
       "        vertical-align: top;\n",
       "    }\n",
       "\n",
       "    .dataframe thead th {\n",
       "        text-align: right;\n",
       "    }\n",
       "</style>\n",
       "<table border=\"1\" class=\"dataframe\">\n",
       "  <thead>\n",
       "    <tr style=\"text-align: right;\">\n",
       "      <th></th>\n",
       "      <th>Date</th>\n",
       "      <th>High</th>\n",
       "      <th>Low</th>\n",
       "      <th>Open</th>\n",
       "      <th>Close</th>\n",
       "      <th>Volume</th>\n",
       "      <th>Adj Close</th>\n",
       "      <th>ticker</th>\n",
       "    </tr>\n",
       "  </thead>\n",
       "  <tbody>\n",
       "    <tr>\n",
       "      <td>0</td>\n",
       "      <td>2019-01-02</td>\n",
       "      <td>158.850006</td>\n",
       "      <td>154.229996</td>\n",
       "      <td>154.889999</td>\n",
       "      <td>157.919998</td>\n",
       "      <td>37039700</td>\n",
       "      <td>155.582367</td>\n",
       "      <td>A</td>\n",
       "    </tr>\n",
       "    <tr>\n",
       "      <td>1</td>\n",
       "      <td>2019-01-03</td>\n",
       "      <td>145.720001</td>\n",
       "      <td>142.000000</td>\n",
       "      <td>143.979996</td>\n",
       "      <td>142.190002</td>\n",
       "      <td>91312200</td>\n",
       "      <td>140.085220</td>\n",
       "      <td>A</td>\n",
       "    </tr>\n",
       "    <tr>\n",
       "      <td>2</td>\n",
       "      <td>2019-01-04</td>\n",
       "      <td>148.550003</td>\n",
       "      <td>143.800003</td>\n",
       "      <td>144.529999</td>\n",
       "      <td>148.259995</td>\n",
       "      <td>58607100</td>\n",
       "      <td>146.065353</td>\n",
       "      <td>A</td>\n",
       "    </tr>\n",
       "  </tbody>\n",
       "</table>\n",
       "</div>"
      ],
      "text/plain": [
       "        Date        High         Low        Open       Close    Volume  \\\n",
       "0 2019-01-02  158.850006  154.229996  154.889999  157.919998  37039700   \n",
       "1 2019-01-03  145.720001  142.000000  143.979996  142.190002  91312200   \n",
       "2 2019-01-04  148.550003  143.800003  144.529999  148.259995  58607100   \n",
       "\n",
       "    Adj Close ticker  \n",
       "0  155.582367      A  \n",
       "1  140.085220      A  \n",
       "2  146.065353      A  "
      ]
     },
     "execution_count": 90,
     "metadata": {},
     "output_type": "execute_result"
    }
   ],
   "source": [
    "df.reset_index()"
   ]
  },
  {
   "cell_type": "code",
   "execution_count": 26,
   "metadata": {},
   "outputs": [
    {
     "data": {
      "text/html": [
       "<div>\n",
       "<style scoped>\n",
       "    .dataframe tbody tr th:only-of-type {\n",
       "        vertical-align: middle;\n",
       "    }\n",
       "\n",
       "    .dataframe tbody tr th {\n",
       "        vertical-align: top;\n",
       "    }\n",
       "\n",
       "    .dataframe thead th {\n",
       "        text-align: right;\n",
       "    }\n",
       "</style>\n",
       "<table border=\"1\" class=\"dataframe\">\n",
       "  <thead>\n",
       "    <tr style=\"text-align: right;\">\n",
       "      <th></th>\n",
       "      <th>Date</th>\n",
       "      <th>High</th>\n",
       "      <th>Low</th>\n",
       "      <th>Open</th>\n",
       "      <th>Close</th>\n",
       "      <th>Volume</th>\n",
       "      <th>Adj Close</th>\n",
       "      <th>ticker</th>\n",
       "    </tr>\n",
       "  </thead>\n",
       "  <tbody>\n",
       "    <tr>\n",
       "      <td>0</td>\n",
       "      <td>2019-01-02</td>\n",
       "      <td>32.650002</td>\n",
       "      <td>31.049999</td>\n",
       "      <td>31.459999</td>\n",
       "      <td>32.480000</td>\n",
       "      <td>5229500</td>\n",
       "      <td>32.081280</td>\n",
       "      <td>AAL</td>\n",
       "    </tr>\n",
       "    <tr>\n",
       "      <td>1</td>\n",
       "      <td>2019-01-03</td>\n",
       "      <td>31.850000</td>\n",
       "      <td>28.809999</td>\n",
       "      <td>31.690001</td>\n",
       "      <td>30.059999</td>\n",
       "      <td>16822000</td>\n",
       "      <td>29.690985</td>\n",
       "      <td>AAL</td>\n",
       "    </tr>\n",
       "    <tr>\n",
       "      <td>2</td>\n",
       "      <td>2019-01-04</td>\n",
       "      <td>32.090000</td>\n",
       "      <td>30.400000</td>\n",
       "      <td>30.440001</td>\n",
       "      <td>32.040001</td>\n",
       "      <td>9369600</td>\n",
       "      <td>31.646681</td>\n",
       "      <td>AAL</td>\n",
       "    </tr>\n",
       "  </tbody>\n",
       "</table>\n",
       "</div>"
      ],
      "text/plain": [
       "         Date       High        Low       Open      Close    Volume  \\\n",
       "0  2019-01-02  32.650002  31.049999  31.459999  32.480000   5229500   \n",
       "1  2019-01-03  31.850000  28.809999  31.690001  30.059999  16822000   \n",
       "2  2019-01-04  32.090000  30.400000  30.440001  32.040001   9369600   \n",
       "\n",
       "   Adj Close ticker  \n",
       "0  32.081280    AAL  \n",
       "1  29.690985    AAL  \n",
       "2  31.646681    AAL  "
      ]
     },
     "execution_count": 26,
     "metadata": {},
     "output_type": "execute_result"
    }
   ],
   "source": []
  },
  {
   "cell_type": "code",
   "execution_count": 87,
   "metadata": {},
   "outputs": [
    {
     "data": {
      "text/plain": [
       "0     A\n",
       "0     A\n",
       "0     A\n",
       "Name: ticker_symbol, dtype: object"
      ]
     },
     "execution_count": 87,
     "metadata": {},
     "output_type": "execute_result"
    }
   ],
   "source": [
    "stocks.repeat(df.shape[0])"
   ]
  },
  {
   "cell_type": "code",
   "execution_count": 85,
   "metadata": {},
   "outputs": [
    {
     "data": {
      "text/plain": [
       "0     A\n",
       "Name: ticker_symbol, dtype: object"
      ]
     },
     "execution_count": 85,
     "metadata": {},
     "output_type": "execute_result"
    }
   ],
   "source": [
    "stocks"
   ]
  },
  {
   "cell_type": "code",
   "execution_count": 72,
   "metadata": {},
   "outputs": [],
   "source": []
  },
  {
   "cell_type": "code",
   "execution_count": null,
   "metadata": {},
   "outputs": [],
   "source": [
    "session = requests_cache.CachedSession(cache_name='cache', backend='sqlite', expire_after=expire_after)"
   ]
  }
 ],
 "metadata": {
  "kernelspec": {
   "display_name": "Python 3",
   "language": "python",
   "name": "python3"
  },
  "language_info": {
   "codemirror_mode": {
    "name": "ipython",
    "version": 3
   },
   "file_extension": ".py",
   "mimetype": "text/x-python",
   "name": "python",
   "nbconvert_exporter": "python",
   "pygments_lexer": "ipython3",
   "version": "3.7.4"
  }
 },
 "nbformat": 4,
 "nbformat_minor": 4
}
